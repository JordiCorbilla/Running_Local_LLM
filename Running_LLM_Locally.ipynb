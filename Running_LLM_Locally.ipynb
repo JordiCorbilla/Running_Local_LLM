{
 "cells": [
  {
   "cell_type": "code",
   "execution_count": 11,
   "id": "29675702",
   "metadata": {},
   "outputs": [],
   "source": [
    "from openai import OpenAI"
   ]
  },
  {
   "cell_type": "code",
   "execution_count": 12,
   "id": "67314c2b",
   "metadata": {},
   "outputs": [],
   "source": [
    "client = OpenAI(base_url=\"http://localhost:1234/v1\", api_key=\"not_needed\")"
   ]
  },
  {
   "cell_type": "code",
   "execution_count": 13,
   "id": "b0038c4a",
   "metadata": {},
   "outputs": [],
   "source": [
    "completion = client.chat.completions.create(\n",
    "    model=\"local model\",\n",
    "    messages=[\n",
    "        { \"role\": \"system\", \"content\": \"You are a Senior Trader\" },\n",
    "        { \"role\": \"user\", \"content\": \"What's the underlying of a future in trading?\" }\n",
    "    ],\n",
    "    temperature= 0.7, \n",
    "    max_tokens= -1,\n",
    "    stream= False\n",
    ")"
   ]
  },
  {
   "cell_type": "code",
   "execution_count": 14,
   "id": "46680c02",
   "metadata": {},
   "outputs": [
    {
     "name": "stdout",
     "output_type": "stream",
     "text": [
      "The underlying of a future in trading refers to the asset or commodity that the future contract is based on. This can be a physical asset such as gold, oil, or wheat, or a financial instrument such as a stock index or currency pair. The underlying asset serves as the basis for determining the price of the future contract, and its value is used to determine the settlement amount at expiration. For example, if you buy a crude oil futures contract, the underlying asset is the price of crude oil, and the value of your contract will be determined by the price of that oil at expiration.\n"
     ]
    }
   ],
   "source": [
    "print(completion.choices[0].message.content)"
   ]
  },
  {
   "cell_type": "code",
   "execution_count": 9,
   "id": "50a9b2c6",
   "metadata": {},
   "outputs": [],
   "source": [
    "completion = client.chat.completions.create(\n",
    "    model=\"local model\",\n",
    "    messages=[\n",
    "        { \"role\": \"system\", \"content\": \"You are a Senior Developer\" },\n",
    "        { \"role\": \"user\", \"content\": \"Provide a sample python code that defines the Black-Scholes Model\" }\n",
    "    ],\n",
    "    temperature= 0.7, \n",
    "    max_tokens= -1,\n",
    "    stream= False\n",
    ")"
   ]
  },
  {
   "cell_type": "code",
   "execution_count": 10,
   "id": "f8fa6b28",
   "metadata": {},
   "outputs": [
    {
     "name": "stdout",
     "output_type": "stream",
     "text": [
      "def black_scholes(S, K, t, r, sigma):\n",
      "    # Define variables\n",
      "    d1 = (np.log(S / K) + (r + sigma**2 / 2)*t) / (sigma*np.sqrt(t))\n",
      "    d2 = d1 - sigma*np.sqrt(t)\n",
      "    call_price = S * norm.cdf(d1) - K * exp(-r*t) * norm.cdf(d2)\n",
      "    put_price = K * exp(-r*t) * norm.cdf(d1) - S * (1-norm.cdf(d2))\n",
      "return call_price, put_price\n",
      "### Explanation:\n",
      "The Black-Scholes model is a mathematical model used to estimate the value of a European-style option, that is, an option that can only be exercised at its expiration date. The model assumes that the price of the underlying asset follows a geometric Brownian motion and that the volatility of the asset is constant over time.\n",
      "The code defines two functions, `black_scholes`, which calculates the prices of a call option and a put option, and `norm.cdf`, which calculates the cumulative distribution function of a standard normal distribution.\n",
      "The function `black_scholes` takes five arguments:\n",
      "* `S`: the current price of the underlying asset\n",
      "* `K`: the strike price of the option\n",
      "* `t`: the time to expiration of the option\n",
      "* `r`: the risk-free interest rate\n",
      "* `sigma`: the volatility of the underlying asset\n",
      "The function first calculates two variables, `d1` and `d2`, which are used in the Black-Scholes formula. These variables are defined as the discount factor and the spot price of the option, respectively.\n",
      "The function then uses these variables to calculate the prices of the call and put options using the Black-Scholes formula. The prices are returned as a tuple containing the call price and the put price.\n",
      "Note that this is just one implementation of the Black-Scholes model in Python, and there may be other ways to implement it depending on your specific needs and requirements.\n"
     ]
    }
   ],
   "source": [
    "print(completion.choices[0].message.content)"
   ]
  },
  {
   "cell_type": "code",
   "execution_count": null,
   "id": "a431faa8",
   "metadata": {},
   "outputs": [],
   "source": []
  }
 ],
 "metadata": {
  "kernelspec": {
   "display_name": "Python 3 (ipykernel)",
   "language": "python",
   "name": "python3"
  },
  "language_info": {
   "codemirror_mode": {
    "name": "ipython",
    "version": 3
   },
   "file_extension": ".py",
   "mimetype": "text/x-python",
   "name": "python",
   "nbconvert_exporter": "python",
   "pygments_lexer": "ipython3",
   "version": "3.9.7"
  }
 },
 "nbformat": 4,
 "nbformat_minor": 5
}
