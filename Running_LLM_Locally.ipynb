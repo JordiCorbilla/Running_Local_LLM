{
 "cells": [
  {
   "cell_type": "code",
   "execution_count": 1,
   "id": "29675702",
   "metadata": {},
   "outputs": [],
   "source": [
    "from openai import OpenAI"
   ]
  },
  {
   "cell_type": "code",
   "execution_count": 2,
   "id": "67314c2b",
   "metadata": {},
   "outputs": [],
   "source": [
    "client = OpenAI(base_url=\"http://localhost:1234/v1\", api_key=\"not_needed\")"
   ]
  },
  {
   "cell_type": "code",
   "execution_count": 7,
   "id": "e21de203",
   "metadata": {},
   "outputs": [],
   "source": [
    "completion = client.chat.completions.create(\n",
    "    model=\"local model\",\n",
    "    messages=[\n",
    "        { \"role\": \"system\", \"content\": \"You are a Senior Trader\" },\n",
    "        { \"role\": \"user\", \"content\": \"What's the underlying of a future in trading?\" }\n",
    "    ],\n",
    "    temperature= 0.7, \n",
    "    max_tokens= -1,\n",
    "    stream= False\n",
    ")"
   ]
  },
  {
   "cell_type": "code",
   "execution_count": 8,
   "id": "0d1a4438",
   "metadata": {},
   "outputs": [
    {
     "name": "stdout",
     "output_type": "stream",
     "text": [
      "The underlying of a future in trading is the asset or commodity that the future contract is based on. The underlying can be a physical commodity, such as gold or oil, or a financial instrument, such as a stock index or a currency pair. The value of the future contract is determined by the price of the underlying asset, and the trader profits from buying or selling the contract at a later date based on changes in the underlying asset's price.\n"
     ]
    }
   ],
   "source": [
    "print(completion.choices[0].message.content)"
   ]
  },
  {
   "cell_type": "code",
   "execution_count": null,
   "id": "ae734003",
   "metadata": {},
   "outputs": [],
   "source": []
  }
 ],
 "metadata": {
  "kernelspec": {
   "display_name": "Python 3 (ipykernel)",
   "language": "python",
   "name": "python3"
  },
  "language_info": {
   "codemirror_mode": {
    "name": "ipython",
    "version": 3
   },
   "file_extension": ".py",
   "mimetype": "text/x-python",
   "name": "python",
   "nbconvert_exporter": "python",
   "pygments_lexer": "ipython3",
   "version": "3.9.7"
  }
 },
 "nbformat": 4,
 "nbformat_minor": 5
}
